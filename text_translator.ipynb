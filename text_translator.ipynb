{
  "nbformat": 4,
  "nbformat_minor": 0,
  "metadata": {
    "colab": {
      "provenance": [],
      "authorship_tag": "ABX9TyPOPbRoZddhJ1dY5MXg51Q7",
      "include_colab_link": true
    },
    "kernelspec": {
      "name": "python3",
      "display_name": "Python 3"
    },
    "language_info": {
      "name": "python"
    }
  },
  "cells": [
    {
      "cell_type": "markdown",
      "metadata": {
        "id": "view-in-github",
        "colab_type": "text"
      },
      "source": [
        "<a href=\"https://colab.research.google.com/github/usvenkat/AI-Agent-Developer/blob/main/text_translator.ipynb\" target=\"_parent\"><img src=\"https://colab.research.google.com/assets/colab-badge.svg\" alt=\"Open In Colab\"/></a>"
      ]
    },
    {
      "cell_type": "code",
      "execution_count": null,
      "metadata": {
        "colab": {
          "base_uri": "https://localhost:8080/"
        },
        "id": "ZVc8HQXwcW9E",
        "outputId": "7388a8ee-d93c-41fe-b532-1ffa0f9e4fcf"
      },
      "outputs": [
        {
          "output_type": "stream",
          "name": "stdout",
          "text": [
            "Traceback (most recent call last):\n",
            "  File \"/usr/local/bin/pip3\", line 4, in <module>\n",
            "    from pip._internal.cli.main import main\n",
            "  File \"/usr/local/lib/python3.11/dist-packages/pip/_internal/cli/main.py\", line 11, in <module>\n",
            "    from pip._internal.cli.autocompletion import autocomplete\n",
            "  File \"/usr/local/lib/python3.11/dist-packages/pip/_internal/cli/autocompletion.py\", line 10, in <module>\n",
            "    from pip._internal.cli.main_parser import create_main_parser\n",
            "  File \"/usr/local/lib/python3.11/dist-packages/pip/_internal/cli/main_parser.py\", line 9, in <module>\n",
            "    from pip._internal.build_env import get_runnable_pip\n",
            "  File \"/usr/local/lib/python3.11/dist-packages/pip/_internal/build_env.py\", line 19, in <module>\n",
            "    from pip._internal.cli.spinners import open_spinner\n",
            "  File \"/usr/local/lib/python3.11/dist-packages/pip/_internal/cli/spinners.py\", line 9, in <module>\n",
            "    from pip._internal.utils.logging import get_indentation\n",
            "  File \"/usr/local/lib/python3.11/dist-packages/pip/_internal/utils/logging.py\", line 29, in <module>\n",
            "    from pip._internal.utils.misc import ensure_dir\n",
            "  File \"/usr/local/lib/python3.11/dist-packages/pip/_internal/utils/misc.py\", line 3, in <module>\n",
            "    import hashlib\n",
            "  File \"/usr/lib/python3.11/hashlib.py\", line 170, in <module>\n",
            "    import _hashlib\n",
            "KeyboardInterrupt\n",
            "^C\n"
          ]
        }
      ],
      "source": [
        "!pip install googletrans==4.0.0-rc1"
      ]
    },
    {
      "cell_type": "code",
      "source": [
        "from googletrans import Translator\n",
        "t = Translator()\n",
        "text = input(\"Enter a text: \")\n",
        "tranlate = t.translate(text, dest='te') # telugu\n",
        "print(\"tranlate.text\",tranlate.text)"
      ],
      "metadata": {
        "id": "LiGs84KWchga",
        "colab": {
          "base_uri": "https://localhost:8080/"
        },
        "outputId": "ef564507-4fff-4a87-afeb-ddeb09df7deb"
      },
      "execution_count": null,
      "outputs": [
        {
          "output_type": "stream",
          "name": "stdout",
          "text": [
            "Enter a text: can you give me your notebook after you complet writing\n",
            "tranlate.text మీరు పూర్తి చేసిన తర్వాత మీ నోట్బుక్ ఇవ్వగలరా?\n"
          ]
        }
      ]
    },
    {
      "cell_type": "code",
      "source": [
        "from googletrans import Translator\n",
        "t = Translator()\n",
        "text = input(\"Enter a text: \")\n",
        "tranlate = t.translate(text, dest='hi') #hindi\n",
        "print(\"tranlate.text\",tranlate.text)"
      ],
      "metadata": {
        "id": "V00BaQPTdI-L",
        "colab": {
          "base_uri": "https://localhost:8080/"
        },
        "outputId": "107c59ab-a7c4-40bb-92db-a497780d48eb"
      },
      "execution_count": null,
      "outputs": [
        {
          "output_type": "stream",
          "name": "stdout",
          "text": [
            "Enter a text: have you eaten\n",
            "tranlate.text क्या आपने खाना खा लिया\n"
          ]
        }
      ]
    },
    {
      "cell_type": "code",
      "source": [
        "from googletrans import Translator\n",
        "t = Translator()\n",
        "text = input(\"Enter a text: \")\n",
        "tranlate = t.translate(text, dest='ta') #tamil\n",
        "print(\"tranlate.text\",tranlate.text)"
      ],
      "metadata": {
        "colab": {
          "base_uri": "https://localhost:8080/"
        },
        "id": "3xEFs00_fDhJ",
        "outputId": "371f4683-2680-4e6a-f085-42ee025f004b"
      },
      "execution_count": null,
      "outputs": [
        {
          "output_type": "stream",
          "name": "stdout",
          "text": [
            "Enter a text: what are you reading\n",
            "tranlate.text நீங்கள் என்ன படிக்கிறீர்கள்\n"
          ]
        }
      ]
    },
    {
      "cell_type": "code",
      "source": [
        "from googletrans import Translator\n",
        "t = Translator()\n",
        "text = input(\"Enter a text: \")\n",
        "tranlate = t.translate(text, dest='el') #greek\n",
        "print(\"tranlate.text\",tranlate.text)"
      ],
      "metadata": {
        "colab": {
          "base_uri": "https://localhost:8080/"
        },
        "id": "B_Eoi5fcfM3F",
        "outputId": "1edbe87a-5962-4766-87ed-9d9d9657681a"
      },
      "execution_count": null,
      "outputs": [
        {
          "output_type": "stream",
          "name": "stdout",
          "text": [
            "Enter a text: who is the king\n",
            "tranlate.text Ποιος είναι ο βασιλιάς\n"
          ]
        }
      ]
    },
    {
      "cell_type": "code",
      "source": [
        "# Supported Languages for googletrans (use as dest='xx')\n",
        "\n",
        "# af — Afrikaans\n",
        "# sq — Albanian\n",
        "# am — Amharic\n",
        "# ar — Arabic\n",
        "# hy — Armenian\n",
        "# az — Azerbaijani\n",
        "# eu — Basque\n",
        "# be — Belarusian\n",
        "# bn — Bengali\n",
        "# bs — Bosnian\n",
        "# bg — Bulgarian\n",
        "# ca — Catalan\n",
        "# ceb — Cebuano\n",
        "# ny — Chichewa\n",
        "# zh-cn — Chinese (Simplified)\n",
        "# zh-tw — Chinese (Traditional)\n",
        "# co — Corsican\n",
        "# hr — Croatian\n",
        "# cs — Czech\n",
        "# da — Danish\n",
        "# nl — Dutch\n",
        "# en — English\n",
        "# eo — Esperanto\n",
        "# et — Estonian\n",
        "# tl — Filipino\n",
        "# fi — Finnish\n",
        "# fr — French\n",
        "# fy — Frisian\n",
        "# gl — Galician\n",
        "# ka — Georgian\n",
        "# de — German\n",
        "# el — Greek\n",
        "# gu — Gujarati\n",
        "# ht — Haitian Creole\n",
        "# ha — Hausa\n",
        "# haw — Hawaiian\n",
        "# iw — Hebrew\n",
        "# hi — Hindi\n",
        "# hmn — Hmong\n",
        "# hu — Hungarian\n",
        "# is — Icelandic\n",
        "# ig — Igbo\n",
        "# id — Indonesian\n",
        "# ga — Irish\n",
        "# it — Italian\n",
        "# ja — Japanese\n",
        "# jw — Javanese\n",
        "# kn — Kannada\n",
        "# kk — Kazakh\n",
        "# km — Khmer\n",
        "# ko — Korean\n",
        "# ku — Kurdish (Kurmanji)\n",
        "# ky — Kyrgyz\n",
        "# lo — Lao\n",
        "# la — Latin\n",
        "# lv — Latvian\n",
        "# lt — Lithuanian\n",
        "# lb — Luxembourgish\n",
        "# mk — Macedonian\n",
        "# mg — Malagasy\n",
        "# ms — Malay\n",
        "# ml — Malayalam\n",
        "# mt — Maltese\n",
        "# mi — Maori\n",
        "# mr — Marathi\n",
        "# mn — Mongolian\n",
        "# my — Myanmar (Burmese)\n",
        "# ne — Nepali\n",
        "# no — Norwegian\n",
        "# or — Odia\n",
        "# ps — Pashto\n",
        "# fa — Persian\n",
        "# pl — Polish\n",
        "# pt — Portuguese\n",
        "# pa — Punjabi\n",
        "# ro — Romanian\n",
        "# ru — Russian\n",
        "# sm — Samoan\n",
        "# gd — Scots Gaelic\n",
        "# sr — Serbian\n",
        "# st — Sesotho\n",
        "# sn — Shona\n",
        "# sd — Sindhi\n",
        "# si — Sinhala\n",
        "# sk — Slovak\n",
        "# sl — Slovenian\n",
        "# so — Somali\n",
        "# es — Spanish\n",
        "# su — Sundanese\n",
        "# sw — Swahili\n",
        "# sv — Swedish\n",
        "# tg — Tajik\n",
        "# ta — Tamil\n",
        "# te — Telugu\n",
        "# th — Thai\n",
        "# tr — Turkish\n",
        "# uk — Ukrainian\n",
        "# ur — Urdu\n",
        "# ug — Uyghur\n",
        "# uz — Uzbek\n",
        "# vi — Vietnamese\n",
        "# cy — Welsh\n",
        "# xh — Xhosa\n",
        "# yi — Yiddish\n",
        "# yo — Yoruba\n",
        "# zu — Zulu\n",
        "# sa — Sanskrit\n"
      ],
      "metadata": {
        "id": "gGr5asXrfpzq"
      },
      "execution_count": null,
      "outputs": []
    }
  ]
}